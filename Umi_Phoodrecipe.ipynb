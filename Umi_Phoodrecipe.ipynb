{
  "nbformat": 4,
  "nbformat_minor": 0,
  "metadata": {
    "colab": {
      "name": "Umi_Phoodrecipe.ipynb",
      "provenance": [],
      "collapsed_sections": [],
      "include_colab_link": true
    },
    "kernelspec": {
      "name": "python3",
      "display_name": "Python 3"
    },
    "accelerator": "GPU"
  },
  "cells": [
    {
      "cell_type": "markdown",
      "metadata": {
        "id": "view-in-github",
        "colab_type": "text"
      },
      "source": [
        "<a href=\"https://colab.research.google.com/github/hyunsoo41/Umi/blob/main/Umi_Phoodrecipe.ipynb\" target=\"_parent\"><img src=\"https://colab.research.google.com/assets/colab-badge.svg\" alt=\"Open In Colab\"/></a>"
      ]
    },
    {
      "cell_type": "markdown",
      "metadata": {
        "id": "Xa07tVPbP7Cu"
      },
      "source": [
        "## Phoodrecipe(CNN food classifier & recipe printer)"
      ]
    },
    {
      "cell_type": "markdown",
      "metadata": {
        "id": "1xAnRxZycECw"
      },
      "source": [
        "* Add all the imports"
      ]
    },
    {
      "cell_type": "code",
      "metadata": {
        "id": "suJ5vUhtcK69"
      },
      "source": [
        "from __future__ import absolute_import, division, print_function\n",
        "\n",
        "import tensorflow as tf\n",
        "\n",
        "import tensorflow.keras.backend as K\n",
        "from tensorflow.keras.models import load_model\n",
        "from tensorflow.keras.preprocessing import image\n",
        "from tensorflow.keras import regularizers\n",
        "from tensorflow.keras.applications.inception_v3 import InceptionV3\n",
        "from tensorflow.keras.models import Model\n",
        "from tensorflow.keras.layers import Dense, Dropout\n",
        "from tensorflow.keras.layers import GlobalAveragePooling2D\n",
        "from tensorflow.keras.preprocessing.image import ImageDataGenerator\n",
        "from tensorflow.keras.callbacks import ModelCheckpoint, CSVLogger\n",
        "from tensorflow.keras.optimizers import SGD\n",
        "from tensorflow.keras.regularizers import l2\n",
        "\n",
        "from tensorflow import keras\n",
        "from tensorflow.keras import models\n",
        "from tensorflow.keras.applications.inception_v3 import preprocess_input\n",
        "\n",
        "import cv2\n",
        "import os\n",
        "import random\n",
        "import collections\n",
        "from collections import defaultdict\n",
        "\n",
        "from shutil import copy\n",
        "from shutil import copytree, rmtree\n",
        "\n",
        "import numpy as np\n",
        "\n",
        "import matplotlib.pyplot as plt\n",
        "import matplotlib.image as img\n",
        "%matplotlib inline"
      ],
      "execution_count": null,
      "outputs": []
    },
    {
      "cell_type": "code",
      "metadata": {
        "id": "Gv3pRiPjESPi",
        "colab": {
          "base_uri": "https://localhost:8080/"
        },
        "outputId": "32bd4bc7-7a91-47d2-b7de-6df6fe84b077"
      },
      "source": [
        "# Clone tensorflow/examples repo which has images to evaluate trained model\n",
        "!git clone https://github.com/tensorflow/examples.git"
      ],
      "execution_count": null,
      "outputs": [
        {
          "output_type": "stream",
          "text": [
            "fatal: destination path 'examples' already exists and is not an empty directory.\n"
          ],
          "name": "stdout"
        }
      ]
    },
    {
      "cell_type": "code",
      "metadata": {
        "id": "f88XvEBTQBS9"
      },
      "source": [
        "# Helper function to download data and extract\n",
        "\n",
        "def get_data_extract():\n",
        "  if \"food-101\" in os.listdir():\n",
        "    print(\"Dataset already exists\")\n",
        "  else:\n",
        "    tf.keras.utils.get_file(\n",
        "    'food-101.tar.gz',\n",
        "    'http://data.vision.ee.ethz.ch/cvl/food-101.tar.gz',\n",
        "    cache_subdir='/content',\n",
        "    extract=True,\n",
        "    archive_format='tar',\n",
        "    cache_dir=None\n",
        "    )\n",
        "    print(\"Dataset downloaded and extracted!\")"
      ],
      "execution_count": null,
      "outputs": []
    },
    {
      "cell_type": "markdown",
      "metadata": {
        "id": "gwLp2G9ae9xC"
      },
      "source": [
        "* The Food-101 dataset is 5GB in size. This might take some time to finish.."
      ]
    },
    {
      "cell_type": "code",
      "metadata": {
        "id": "O7kY0v23QJGO",
        "colab": {
          "base_uri": "https://localhost:8080/"
        },
        "outputId": "ad900e60-c03f-4379-fe0b-f11b3d3c3421"
      },
      "source": [
        "# Download data and extract it to folder\n",
        "get_data_extract()"
      ],
      "execution_count": null,
      "outputs": [
        {
          "output_type": "stream",
          "text": [
            "Dataset already exists\n"
          ],
          "name": "stdout"
        }
      ]
    },
    {
      "cell_type": "code",
      "metadata": {
        "id": "xB0XMUX_5KMQ"
      },
      "source": [
        "# Helper method to split dataset into train and test folders\n",
        "def prepare_data(filepath, src,dest):\n",
        "  classes_images = defaultdict(list)\n",
        "  with open(filepath, 'r') as txt:\n",
        "      paths = [read.strip() for read in txt.readlines()]\n",
        "      for p in paths:\n",
        "        food = p.split('/')\n",
        "        classes_images[food[0]].append(food[1] + '.jpg')\n",
        "\n",
        "  for food in classes_images.keys():\n",
        "    #print(\"\\nCopying images into \",food)\n",
        "    if not os.path.exists(os.path.join(dest,food)):\n",
        "      os.makedirs(os.path.join(dest,food))\n",
        "    for i in classes_images[food]:\n",
        "      copy(os.path.join(src,food,i), os.path.join(dest,food,i))\n",
        "  print(\"Copying Done!\")"
      ],
      "execution_count": null,
      "outputs": []
    },
    {
      "cell_type": "code",
      "metadata": {
        "id": "Sv8sphOaN4lX",
        "colab": {
          "base_uri": "https://localhost:8080/"
        },
        "outputId": "d837a881-07fa-44aa-bfd2-0d5262507ed0"
      },
      "source": [
        "# Prepare train dataset by copying images from food-101/images to food-101/train using the file train.txt\n",
        "#print(\"Creating train data...\")\n",
        "prepare_data('food-101/meta/train.txt', 'food-101/images', 'food-101/train')"
      ],
      "execution_count": null,
      "outputs": [
        {
          "output_type": "stream",
          "text": [
            "\n",
            "Copying images into  apple_pie\n",
            "\n",
            "Copying images into  baby_back_ribs\n",
            "\n",
            "Copying images into  baklava\n",
            "\n",
            "Copying images into  beef_carpaccio\n",
            "\n",
            "Copying images into  beef_tartare\n",
            "\n",
            "Copying images into  beet_salad\n",
            "\n",
            "Copying images into  beignets\n",
            "\n",
            "Copying images into  bibimbap\n",
            "\n",
            "Copying images into  bread_pudding\n",
            "\n",
            "Copying images into  breakfast_burrito\n",
            "\n",
            "Copying images into  bruschetta\n",
            "\n",
            "Copying images into  caesar_salad\n",
            "\n",
            "Copying images into  cannoli\n",
            "\n",
            "Copying images into  caprese_salad\n",
            "\n",
            "Copying images into  carrot_cake\n",
            "\n",
            "Copying images into  ceviche\n",
            "\n",
            "Copying images into  cheesecake\n",
            "\n",
            "Copying images into  cheese_plate\n",
            "\n",
            "Copying images into  chicken_curry\n",
            "\n",
            "Copying images into  chicken_quesadilla\n",
            "\n",
            "Copying images into  chicken_wings\n",
            "\n",
            "Copying images into  chocolate_cake\n",
            "\n",
            "Copying images into  chocolate_mousse\n",
            "\n",
            "Copying images into  churros\n",
            "\n",
            "Copying images into  clam_chowder\n",
            "\n",
            "Copying images into  club_sandwich\n",
            "\n",
            "Copying images into  crab_cakes\n",
            "\n",
            "Copying images into  creme_brulee\n",
            "\n",
            "Copying images into  croque_madame\n",
            "\n",
            "Copying images into  cup_cakes\n",
            "\n",
            "Copying images into  deviled_eggs\n",
            "\n",
            "Copying images into  donuts\n",
            "\n",
            "Copying images into  dumplings\n",
            "\n",
            "Copying images into  edamame\n",
            "\n",
            "Copying images into  eggs_benedict\n",
            "\n",
            "Copying images into  escargots\n",
            "\n",
            "Copying images into  falafel\n",
            "\n",
            "Copying images into  filet_mignon\n",
            "\n",
            "Copying images into  fish_and_chips\n",
            "\n",
            "Copying images into  foie_gras\n",
            "\n",
            "Copying images into  french_fries\n",
            "\n",
            "Copying images into  french_onion_soup\n",
            "\n",
            "Copying images into  french_toast\n",
            "\n",
            "Copying images into  fried_calamari\n",
            "\n",
            "Copying images into  fried_rice\n",
            "\n",
            "Copying images into  frozen_yogurt\n",
            "\n",
            "Copying images into  garlic_bread\n",
            "\n",
            "Copying images into  gnocchi\n",
            "\n",
            "Copying images into  greek_salad\n",
            "\n",
            "Copying images into  grilled_cheese_sandwich\n",
            "\n",
            "Copying images into  grilled_salmon\n",
            "\n",
            "Copying images into  guacamole\n",
            "\n",
            "Copying images into  gyoza\n",
            "\n",
            "Copying images into  hamburger\n",
            "\n",
            "Copying images into  hot_and_sour_soup\n",
            "\n",
            "Copying images into  hot_dog\n",
            "\n",
            "Copying images into  huevos_rancheros\n",
            "\n",
            "Copying images into  hummus\n",
            "\n",
            "Copying images into  ice_cream\n",
            "\n",
            "Copying images into  lasagna\n",
            "\n",
            "Copying images into  lobster_bisque\n",
            "\n",
            "Copying images into  lobster_roll_sandwich\n",
            "\n",
            "Copying images into  macaroni_and_cheese\n",
            "\n",
            "Copying images into  macarons\n",
            "\n",
            "Copying images into  miso_soup\n",
            "\n",
            "Copying images into  mussels\n",
            "\n",
            "Copying images into  nachos\n",
            "\n",
            "Copying images into  omelette\n",
            "\n",
            "Copying images into  onion_rings\n",
            "\n",
            "Copying images into  oysters\n",
            "\n",
            "Copying images into  pad_thai\n",
            "\n",
            "Copying images into  paella\n",
            "\n",
            "Copying images into  pancakes\n",
            "\n",
            "Copying images into  panna_cotta\n",
            "\n",
            "Copying images into  peking_duck\n",
            "\n",
            "Copying images into  pho\n",
            "\n",
            "Copying images into  pizza\n",
            "\n",
            "Copying images into  pork_chop\n",
            "\n",
            "Copying images into  poutine\n",
            "\n",
            "Copying images into  prime_rib\n",
            "\n",
            "Copying images into  pulled_pork_sandwich\n",
            "\n",
            "Copying images into  ramen\n",
            "\n",
            "Copying images into  ravioli\n",
            "\n",
            "Copying images into  red_velvet_cake\n",
            "\n",
            "Copying images into  risotto\n",
            "\n",
            "Copying images into  samosa\n",
            "\n",
            "Copying images into  sashimi\n",
            "\n",
            "Copying images into  scallops\n",
            "\n",
            "Copying images into  seaweed_salad\n",
            "\n",
            "Copying images into  shrimp_and_grits\n",
            "\n",
            "Copying images into  spaghetti_bolognese\n",
            "\n",
            "Copying images into  spaghetti_carbonara\n",
            "\n",
            "Copying images into  spring_rolls\n",
            "\n",
            "Copying images into  steak\n",
            "\n",
            "Copying images into  strawberry_shortcake\n",
            "\n",
            "Copying images into  sushi\n",
            "\n",
            "Copying images into  tacos\n",
            "\n",
            "Copying images into  takoyaki\n",
            "\n",
            "Copying images into  tiramisu\n",
            "\n",
            "Copying images into  tuna_tartare\n",
            "\n",
            "Copying images into  waffles\n",
            "Copying Done!\n"
          ],
          "name": "stdout"
        }
      ]
    },
    {
      "cell_type": "code",
      "metadata": {
        "id": "JI65wZgT5Kb-",
        "colab": {
          "base_uri": "https://localhost:8080/"
        },
        "outputId": "55c482f5-b939-47cb-d354-1983b7eede6b"
      },
      "source": [
        "# Prepare test data by copying images from food-101/images to food-101/test using the file test.txt\n",
        "#print(\"Creating test data...\")\n",
        "prepare_data('food-101/meta/test.txt', 'food-101/images', 'food-101/test')"
      ],
      "execution_count": null,
      "outputs": [
        {
          "output_type": "stream",
          "text": [
            "Copying Done!\n"
          ],
          "name": "stdout"
        }
      ]
    },
    {
      "cell_type": "code",
      "metadata": {
        "id": "Xccc8PJP5K1G",
        "colab": {
          "base_uri": "https://localhost:8080/"
        },
        "outputId": "43afdc51-1c75-436a-8fd4-87da85c02dbf"
      },
      "source": [
        "# Check how many files are in the train folder\n",
        "\n",
        "train_files = sum([len(files) for i, j, files in os.walk(\"food-101/train\")])\n",
        "print(\"Total number of samples in train folder\")\n",
        "print(train_files)"
      ],
      "execution_count": null,
      "outputs": [
        {
          "output_type": "stream",
          "text": [
            "Total number of samples in train folder\n",
            "75750\n"
          ],
          "name": "stdout"
        }
      ]
    },
    {
      "cell_type": "code",
      "metadata": {
        "id": "Iz3fjQw25K3-",
        "colab": {
          "base_uri": "https://localhost:8080/"
        },
        "outputId": "d5bef9be-e998-4ad2-b87c-59062583f60c"
      },
      "source": [
        "# Check how many files are in the test folder\n",
        "test_files = sum([len(files) for i, j, files in os.walk(\"food-101/test\")])\n",
        "print(\"Total number of samples in test folder\")\n",
        "print(test_files)"
      ],
      "execution_count": null,
      "outputs": [
        {
          "output_type": "stream",
          "text": [
            "Total number of samples in test folder\n",
            "25250\n"
          ],
          "name": "stdout"
        }
      ]
    },
    {
      "cell_type": "markdown",
      "metadata": {
        "id": "O5rLWIHpUGWf"
      },
      "source": [
        "# Create a subset of data with few classes (3)"
      ]
    },
    {
      "cell_type": "code",
      "metadata": {
        "id": "tYyJGTJ6J9CP"
      },
      "source": [
        "# Helper method to create train_mini and test_mini data samples\n",
        "def dataset_mini(food_list, src, dest):\n",
        "  if os.path.exists(dest):\n",
        "    rmtree(dest) # removing dataset_mini(if it already exists) folders so that we will have only the classes that we want\n",
        "  os.makedirs(dest)\n",
        "  for food_item in food_list :\n",
        "    print(\"Copying images into\",food_item)\n",
        "    copytree(os.path.join(src,food_item), os.path.join(dest,food_item))"
      ],
      "execution_count": null,
      "outputs": []
    },
    {
      "cell_type": "code",
      "metadata": {
        "id": "9YAscZLV5LFK"
      },
      "source": [
        "# picking 3 food items and generating separate data folders for the same\n",
        "food_list = ['apple_pie','pizza','omelette']\n",
        "src_train = 'food-101/train'\n",
        "dest_train = 'food-101/train_mini'\n",
        "src_test = 'food-101/test'\n",
        "dest_test = 'food-101/test_mini'"
      ],
      "execution_count": null,
      "outputs": []
    },
    {
      "cell_type": "code",
      "metadata": {
        "id": "tvlXbJ3NoPzy",
        "colab": {
          "base_uri": "https://localhost:8080/"
        },
        "outputId": "4460b1fe-7fb9-408f-bcce-2bd67beb6f40"
      },
      "source": [
        "print(\"Creating train data folder with new classes\")\n",
        "dataset_mini(food_list, src_train, dest_train)"
      ],
      "execution_count": null,
      "outputs": [
        {
          "output_type": "stream",
          "text": [
            "Creating train data folder with new classes\n",
            "Copying images into apple_pie\n",
            "Copying images into pizza\n",
            "Copying images into omelette\n"
          ],
          "name": "stdout"
        }
      ]
    },
    {
      "cell_type": "code",
      "metadata": {
        "id": "t7mWJCev5LI8",
        "colab": {
          "base_uri": "https://localhost:8080/"
        },
        "outputId": "547d0fd2-66cd-4a3f-a65b-20c423ba994d"
      },
      "source": [
        "print(\"Total number of samples in train folder\")\n",
        "train_files = sum([len(files) for i, j, files in os.walk(\"food-101/train_mini\")])\n",
        "print(train_files)"
      ],
      "execution_count": null,
      "outputs": [
        {
          "output_type": "stream",
          "text": [
            "Total number of samples in train folder\n",
            "2250\n"
          ],
          "name": "stdout"
        }
      ]
    },
    {
      "cell_type": "code",
      "metadata": {
        "id": "s4aeURey5LLy",
        "colab": {
          "base_uri": "https://localhost:8080/"
        },
        "outputId": "d2e9c5f9-832e-40d9-f983-7f9555584840"
      },
      "source": [
        "print(\"Creating test data folder with new classes\")\n",
        "dataset_mini(food_list, src_test, dest_test)"
      ],
      "execution_count": null,
      "outputs": [
        {
          "output_type": "stream",
          "text": [
            "Creating test data folder with new classes\n",
            "Copying images into apple_pie\n",
            "Copying images into pizza\n",
            "Copying images into omelette\n"
          ],
          "name": "stdout"
        }
      ]
    },
    {
      "cell_type": "code",
      "metadata": {
        "id": "LBLq_gYD5LOm",
        "colab": {
          "base_uri": "https://localhost:8080/"
        },
        "outputId": "8fda0f32-f28c-48d2-81d2-dbbd73bd7652"
      },
      "source": [
        "print(\"Total number of samples in test folder\")\n",
        "test_files = sum([len(files) for i, j, files in os.walk(\"food-101/test_mini\")])\n",
        "print(test_files)"
      ],
      "execution_count": null,
      "outputs": [
        {
          "output_type": "stream",
          "text": [
            "Total number of samples in test folder\n",
            "750\n"
          ],
          "name": "stdout"
        }
      ]
    },
    {
      "cell_type": "markdown",
      "metadata": {
        "id": "upx61ukJiA8B"
      },
      "source": [
        "# Fine tune Inception Pretrained model using Food 101 dataset"
      ]
    },
    {
      "cell_type": "markdown",
      "metadata": {
        "id": "z5hh8fj8iIaV"
      },
      "source": [
        "* Keras and other Deep Learning libraries provide pretrained models  \n",
        "* These are deep neural networks with efficient architectures(like VGG,Inception,ResNet) that are already trained on datasets like ImageNet  \n",
        "* Using these pretrained models, we can use the already learned weights and add few layers on top to finetune the model to our new data  \n",
        "* This helps in faster convergance and saves time and computation when compared to models trained from scratch"
      ]
    },
    {
      "cell_type": "markdown",
      "metadata": {
        "id": "8AzJVmphi0VQ"
      },
      "source": [
        "* We currently have a subset of dataset with 3 classes - samosa, pizza and omelette  \n",
        "* Use the below code to finetune Inceptionv3 pretrained model"
      ]
    },
    {
      "cell_type": "code",
      "metadata": {
        "id": "MS5NI8Py77sA"
      },
      "source": [
        "def train_model(n_classes,num_epochs, nb_train_samples,nb_validation_samples):\n",
        "  K.clear_session() \n",
        "  # 이 함수를 호출할 때마다 연산 그래프를 실행하므로 모델의 학습속도가 느려지고 메모리가 부족할 수 있다.\n",
        "  # 이 때 이 함수를 호출하면 모델 생성전에 tensorflow의 graph 영역을 clear한다.\n",
        "\n",
        "  img_width, img_height = 299, 299 #이미지 크기를 299x299로 설정\n",
        "  train_data_dir = 'food-101/train_mini' #train data 경로, 2250장\n",
        "  validation_data_dir = 'food-101/test_mini' #test data 경로, 750장\n",
        "  batch_size = 16  #train data 중 한번에 넘겨주는 데이터의 수가 16, \n",
        "  #epoch는 전체 데이터 셋에 대해 forward pass + backward pass가 완료된 것! (헷갈 노노)\n",
        "\n",
        "  #파일경로\n",
        "  bestmodel_path = 'bestmodel_'+str(n_classes)+'class.hdf5'\n",
        "  trainedmodel_path = 'trainedmodel_'+str(n_classes)+'class.hdf5'\n",
        "  history_path = 'history_'+str(n_classes)+'.log'\n",
        "\n",
        "  train_datagen = ImageDataGenerator(\n",
        "      preprocessing_function=preprocess_input,\n",
        "      shear_range=0.2,\n",
        "      zoom_range=0.2,\n",
        "      horizontal_flip=True)\n",
        "  #data argument 해주는 함수 ImageDataGenerator, 가지고 있는 데이터들을 여러 방법으로 변형시켜 더 많은 데이터 사용할 수 있음\n",
        "  #preprocessing_function=preprocess_input: 모델에 필요한 형식에 이미지를 적절하게 맞추기 위한 것, 모든 input 이미지에 각각 적용함\n",
        "  #shear_range: 0.2 radian 내외로 시계반대방향으로 변형시켜줌\n",
        "  #zoom_range: 원본이미지를 0.8배부터 1.2배 크기 변화 시켜줌\n",
        "  #horizontal_flip: 좌우 반전\n",
        "\n",
        "  test_datagen = ImageDataGenerator(preprocessing_function=preprocess_input)\n",
        "\n",
        "  train_generator = train_datagen.flow_from_directory(\n",
        "      train_data_dir,\n",
        "      target_size=(img_height, img_width),\n",
        "      batch_size=batch_size,\n",
        "      class_mode='categorical')\n",
        "  #flow_from_directory는 directory 경로로부터 data frame을 가져와서(첫번째 인자) augmented 또는 normalized 된 data 배치를 생성하는 함수\n",
        "  #target_size=(img_height, img_width)로 지정된 크기로 이미지를 조정한다.\n",
        "  #classmode는 분류 방식 지정해주는 인자인데 여기서는 categoraical로 반환\n",
        "\n",
        "  validation_generator = test_datagen.flow_from_directory(\n",
        "      validation_data_dir,\n",
        "      target_size=(img_height, img_width),\n",
        "      batch_size=batch_size,\n",
        "      class_mode='categorical')\n",
        "\n",
        "\n",
        "  inception = InceptionV3(weights='imagenet', include_top=False)\n",
        "  #사전 훈련된 모델을 가져옴, imagenet(dataset)으로 pretrained 된 model 사용\n",
        "  #inceptionv3는 48개 계층으로 구성된 컨벌루션 신경망, imgaenet 데이터베이스의 1백만 개가 넘는 영상에 대해 훈련된 신경망의 사전 훈련된 버전을 불러올 수 있음\n",
        "  #사전 훈련된 신경망은 1,000가지 사물 범주로 분류할 수 있음\n",
        "  #신경망의 영상 입력 크기는 299*299 (그래서 위에서 사진 크기를 299x299로 한 것임)\n",
        "  x = inception.output\n",
        "  x = GlobalAveragePooling2D()(x) #공간적 데이터에 대한 최대값 풀링 작업, 전체 영역에 대한 pooling, 레이어 집합을 input으로 하여 벡터를 output으로 낸다. output은 결국 feature의 개수만큼.\n",
        "  x = Dense(128,activation='relu')(x) #입력과 출력을 모두 연결해 주는 함수 Dense, 128개의 출력 뉴런, 활성화 함수는 relu\n",
        "  x = Dropout(0.2)(x) #전체 입력 값 중 20%를 0으로 만듦, 과적합 방지\n",
        "\n",
        "  predictions = Dense(n_classes,kernel_regularizer=regularizers.l2(0.005), activation='softmax')(x)\n",
        "  #분류하는 클래스의 개수 n_classes\n",
        "  #kernel_regularizer: 가중치가 지나치게 커지지 않도록 정규화항 추가해줌(가중치가 커지면 손실 커짐), l2는 L2 정규화(가중치의 제곱을 손실함수에 추가)를 해줌\n",
        "  #활성화 함수로 softmax함수 사용\n",
        "\n",
        "\n",
        "  #모델을 가져와서 컴파일 함.\n",
        "  model = Model(inputs=inception.input, outputs=predictions) \n",
        "  model.compile(optimizer=SGD(lr=0.0001, momentum=0.9), loss='categorical_crossentropy', metrics=['accuracy'])  #모델 학습 과정 설정\n",
        " \n",
        "  #모델 학습 시 필요한 callbacks 인자 요소 \n",
        "  checkpoint = ModelCheckpoint(filepath=bestmodel_path, verbose=1, save_best_only=True)\n",
        "  #filepath: 모델 파일을 저장할 경로.\n",
        "  #verbose: 학습 진행 상황 보이게 설정(0이면 보이지 않음)\n",
        "  #save_best_only = True를 설정하면 모델의 가중치만 저장되고, 아닌 경우 전체 모델이 저장됨 \n",
        "\n",
        "  csv_logger = CSVLogger(history_path)\n",
        "  #결과를 csv 파일에 스트림하는 콜백.\n",
        "\n",
        "  #모델 학습시키는 함수 model.fit_generator. (generator로 생성된 배치 학습시에 이 함수를 사용함.)\n",
        "  history = model.fit_generator(train_generator, #훈련 데이터 셋\n",
        "                      steps_per_epoch = nb_train_samples // batch_size, #한 epoch에 사용한 step 수\n",
        "                      validation_data=validation_generator, #테스트 데이터 셋 \n",
        "                      validation_steps=nb_validation_samples // batch_size, #한 epoch 종료시마다 검증할 때 사용되는 검증 step 수\n",
        "                      epochs=num_epochs,\n",
        "                      verbose=1,\n",
        "                      callbacks=[csv_logger, checkpoint]) #모델의 내적 상태 & 통계자료 확인 가능 \n",
        "\n",
        "  model.save(trainedmodel_path)\n",
        "  class_map = train_generator.class_indices\n",
        "  #class_indices 출력하면 해당 열의 클래스명 알려줌\n",
        "  return history, class_map"
      ],
      "execution_count": null,
      "outputs": []
    },
    {
      "cell_type": "code",
      "metadata": {
        "id": "JBs1U7hZkp1U",
        "colab": {
          "base_uri": "https://localhost:8080/"
        },
        "outputId": "49d0a6e9-0d42-485d-b951-306bb2693a4b"
      },
      "source": [
        "# Train the model with data from 3 classes\n",
        "n_classes = 3\n",
        "epochs = 5 #임의로 지정\n",
        "nb_train_samples = train_files\n",
        "nb_validation_samples = test_files\n",
        "\n",
        "history, class_map_3 = train_model(n_classes,epochs, nb_train_samples,nb_validation_samples)\n",
        "print(class_map_3)"
      ],
      "execution_count": null,
      "outputs": [
        {
          "output_type": "stream",
          "text": [
            "Found 2250 images belonging to 3 classes.\n",
            "Found 750 images belonging to 3 classes.\n"
          ],
          "name": "stdout"
        },
        {
          "output_type": "stream",
          "text": [
            "/usr/local/lib/python3.7/dist-packages/tensorflow/python/keras/engine/training.py:1844: UserWarning: `Model.fit_generator` is deprecated and will be removed in a future version. Please use `Model.fit`, which supports generators.\n",
            "  warnings.warn('`Model.fit_generator` is deprecated and '\n"
          ],
          "name": "stderr"
        },
        {
          "output_type": "stream",
          "text": [
            "Epoch 1/30\n",
            "140/140 [==============================] - 63s 411ms/step - loss: 1.1440 - accuracy: 0.3845 - val_loss: 0.8901 - val_accuracy: 0.6780\n",
            "\n",
            "Epoch 00001: val_loss improved from inf to 0.89015, saving model to bestmodel_3class.hdf5\n",
            "Epoch 2/30\n",
            "140/140 [==============================] - 57s 403ms/step - loss: 0.8842 - accuracy: 0.6465 - val_loss: 0.6885 - val_accuracy: 0.7921\n",
            "\n",
            "Epoch 00002: val_loss improved from 0.89015 to 0.68851, saving model to bestmodel_3class.hdf5\n",
            "Epoch 3/30\n",
            "140/140 [==============================] - 57s 404ms/step - loss: 0.7320 - accuracy: 0.7276 - val_loss: 0.5617 - val_accuracy: 0.8383\n",
            "\n",
            "Epoch 00003: val_loss improved from 0.68851 to 0.56167, saving model to bestmodel_3class.hdf5\n",
            "Epoch 4/30\n",
            "140/140 [==============================] - 57s 403ms/step - loss: 0.6058 - accuracy: 0.7914 - val_loss: 0.4657 - val_accuracy: 0.8709\n",
            "\n",
            "Epoch 00004: val_loss improved from 0.56167 to 0.46568, saving model to bestmodel_3class.hdf5\n",
            "Epoch 5/30\n",
            "140/140 [==============================] - 57s 403ms/step - loss: 0.5321 - accuracy: 0.8178 - val_loss: 0.3993 - val_accuracy: 0.8886\n",
            "\n",
            "Epoch 00005: val_loss improved from 0.46568 to 0.39934, saving model to bestmodel_3class.hdf5\n",
            "Epoch 6/30\n",
            "140/140 [==============================] - 57s 403ms/step - loss: 0.4814 - accuracy: 0.8380 - val_loss: 0.3469 - val_accuracy: 0.9062\n",
            "\n",
            "Epoch 00006: val_loss improved from 0.39934 to 0.34686, saving model to bestmodel_3class.hdf5\n",
            "Epoch 7/30\n",
            "140/140 [==============================] - 56s 402ms/step - loss: 0.4259 - accuracy: 0.8568 - val_loss: 0.3059 - val_accuracy: 0.9212\n",
            "\n",
            "Epoch 00007: val_loss improved from 0.34686 to 0.30591, saving model to bestmodel_3class.hdf5\n",
            "Epoch 8/30\n",
            "140/140 [==============================] - 57s 406ms/step - loss: 0.4000 - accuracy: 0.8671 - val_loss: 0.2809 - val_accuracy: 0.9293\n",
            "\n",
            "Epoch 00008: val_loss improved from 0.30591 to 0.28088, saving model to bestmodel_3class.hdf5\n",
            "Epoch 9/30\n",
            "140/140 [==============================] - 57s 403ms/step - loss: 0.3499 - accuracy: 0.8947 - val_loss: 0.2598 - val_accuracy: 0.9307\n",
            "\n",
            "Epoch 00009: val_loss improved from 0.28088 to 0.25976, saving model to bestmodel_3class.hdf5\n",
            "Epoch 10/30\n",
            "140/140 [==============================] - 57s 403ms/step - loss: 0.3268 - accuracy: 0.8935 - val_loss: 0.2397 - val_accuracy: 0.9389\n",
            "\n",
            "Epoch 00010: val_loss improved from 0.25976 to 0.23972, saving model to bestmodel_3class.hdf5\n",
            "Epoch 11/30\n",
            "140/140 [==============================] - 56s 402ms/step - loss: 0.3259 - accuracy: 0.8960 - val_loss: 0.2311 - val_accuracy: 0.9389\n",
            "\n",
            "Epoch 00011: val_loss improved from 0.23972 to 0.23106, saving model to bestmodel_3class.hdf5\n",
            "Epoch 12/30\n",
            "140/140 [==============================] - 56s 401ms/step - loss: 0.3036 - accuracy: 0.9005 - val_loss: 0.2206 - val_accuracy: 0.9416\n",
            "\n",
            "Epoch 00012: val_loss improved from 0.23106 to 0.22057, saving model to bestmodel_3class.hdf5\n",
            "Epoch 13/30\n",
            "140/140 [==============================] - 56s 402ms/step - loss: 0.2735 - accuracy: 0.9053 - val_loss: 0.2108 - val_accuracy: 0.9429\n",
            "\n",
            "Epoch 00013: val_loss improved from 0.22057 to 0.21077, saving model to bestmodel_3class.hdf5\n",
            "Epoch 14/30\n",
            "140/140 [==============================] - 56s 402ms/step - loss: 0.2756 - accuracy: 0.9147 - val_loss: 0.2064 - val_accuracy: 0.9375\n",
            "\n",
            "Epoch 00014: val_loss improved from 0.21077 to 0.20642, saving model to bestmodel_3class.hdf5\n",
            "Epoch 15/30\n",
            "140/140 [==============================] - 56s 402ms/step - loss: 0.2327 - accuracy: 0.9300 - val_loss: 0.2005 - val_accuracy: 0.9429\n",
            "\n",
            "Epoch 00015: val_loss improved from 0.20642 to 0.20049, saving model to bestmodel_3class.hdf5\n",
            "Epoch 16/30\n",
            "140/140 [==============================] - 56s 402ms/step - loss: 0.2277 - accuracy: 0.9329 - val_loss: 0.1907 - val_accuracy: 0.9470\n",
            "\n",
            "Epoch 00016: val_loss improved from 0.20049 to 0.19066, saving model to bestmodel_3class.hdf5\n",
            "Epoch 17/30\n",
            "140/140 [==============================] - 57s 403ms/step - loss: 0.2266 - accuracy: 0.9298 - val_loss: 0.1911 - val_accuracy: 0.9402\n",
            "\n",
            "Epoch 00017: val_loss did not improve from 0.19066\n",
            "Epoch 18/30\n",
            "140/140 [==============================] - 56s 402ms/step - loss: 0.2032 - accuracy: 0.9445 - val_loss: 0.1830 - val_accuracy: 0.9484\n",
            "\n",
            "Epoch 00018: val_loss improved from 0.19066 to 0.18298, saving model to bestmodel_3class.hdf5\n",
            "Epoch 19/30\n",
            "140/140 [==============================] - 56s 399ms/step - loss: 0.1958 - accuracy: 0.9396 - val_loss: 0.1849 - val_accuracy: 0.9457\n",
            "\n",
            "Epoch 00019: val_loss did not improve from 0.18298\n",
            "Epoch 20/30\n",
            "140/140 [==============================] - 56s 402ms/step - loss: 0.1833 - accuracy: 0.9453 - val_loss: 0.1831 - val_accuracy: 0.9429\n",
            "\n",
            "Epoch 00020: val_loss did not improve from 0.18298\n",
            "Epoch 21/30\n",
            "140/140 [==============================] - 56s 402ms/step - loss: 0.1925 - accuracy: 0.9408 - val_loss: 0.1782 - val_accuracy: 0.9429\n",
            "\n",
            "Epoch 00021: val_loss improved from 0.18298 to 0.17816, saving model to bestmodel_3class.hdf5\n",
            "Epoch 22/30\n",
            "140/140 [==============================] - 57s 404ms/step - loss: 0.1891 - accuracy: 0.9413 - val_loss: 0.1724 - val_accuracy: 0.9457\n",
            "\n",
            "Epoch 00022: val_loss improved from 0.17816 to 0.17242, saving model to bestmodel_3class.hdf5\n",
            "Epoch 23/30\n",
            "140/140 [==============================] - 56s 401ms/step - loss: 0.1524 - accuracy: 0.9640 - val_loss: 0.1776 - val_accuracy: 0.9429\n",
            "\n",
            "Epoch 00023: val_loss did not improve from 0.17242\n",
            "Epoch 24/30\n",
            "140/140 [==============================] - 57s 403ms/step - loss: 0.1765 - accuracy: 0.9475 - val_loss: 0.1717 - val_accuracy: 0.9484\n",
            "\n",
            "Epoch 00024: val_loss improved from 0.17242 to 0.17173, saving model to bestmodel_3class.hdf5\n",
            "Epoch 25/30\n",
            "140/140 [==============================] - 56s 402ms/step - loss: 0.1595 - accuracy: 0.9566 - val_loss: 0.1724 - val_accuracy: 0.9429\n",
            "\n",
            "Epoch 00025: val_loss did not improve from 0.17173\n",
            "Epoch 26/30\n",
            "140/140 [==============================] - 57s 404ms/step - loss: 0.1404 - accuracy: 0.9656 - val_loss: 0.1744 - val_accuracy: 0.9457\n",
            "\n",
            "Epoch 00026: val_loss did not improve from 0.17173\n",
            "Epoch 27/30\n",
            "140/140 [==============================] - 58s 416ms/step - loss: 0.1361 - accuracy: 0.9663 - val_loss: 0.1732 - val_accuracy: 0.9429\n",
            "\n",
            "Epoch 00027: val_loss did not improve from 0.17173\n",
            "Epoch 28/30\n",
            "140/140 [==============================] - 57s 403ms/step - loss: 0.1277 - accuracy: 0.9702 - val_loss: 0.1670 - val_accuracy: 0.9457\n",
            "\n",
            "Epoch 00028: val_loss improved from 0.17173 to 0.16697, saving model to bestmodel_3class.hdf5\n",
            "Epoch 29/30\n",
            "140/140 [==============================] - 57s 405ms/step - loss: 0.1339 - accuracy: 0.9678 - val_loss: 0.1623 - val_accuracy: 0.9375\n",
            "\n",
            "Epoch 00029: val_loss improved from 0.16697 to 0.16230, saving model to bestmodel_3class.hdf5\n",
            "Epoch 30/30\n",
            "140/140 [==============================] - 57s 404ms/step - loss: 0.1116 - accuracy: 0.9738 - val_loss: 0.1640 - val_accuracy: 0.9524\n",
            "\n",
            "Epoch 00030: val_loss did not improve from 0.16230\n",
            "{'apple_pie': 0, 'omelette': 1, 'pizza': 2}\n"
          ],
          "name": "stdout"
        }
      ]
    },
    {
      "cell_type": "markdown",
      "metadata": {
        "id": "KbDzLAHGpJXQ"
      },
      "source": [
        "# Visualize the accuracy and loss plots"
      ]
    },
    {
      "cell_type": "code",
      "metadata": {
        "id": "SjRm_AWZpPZm",
        "colab": {
          "base_uri": "https://localhost:8080/",
          "height": 573
        },
        "outputId": "ffbe9a3e-0df2-4200-c770-588b7ed4768f"
      },
      "source": [
        "def plot_accuracy(history,title):\n",
        "    plt.title(title)\n",
        "    plt.plot(history.history['accuracy']) # change acc to accuracy if testing TF 2.0\n",
        "    plt.plot(history.history['val_accuracy']) # change val_accuracy if testing TF 2.0\n",
        "    plt.ylabel('accuracy')\n",
        "    plt.xlabel('epoch')\n",
        "    plt.legend(['train_accuracy', 'validation_accuracy'], loc='best')\n",
        "    plt.show()\n",
        "\n",
        "\n",
        "def plot_loss(history,title):\n",
        "    plt.title(title)\n",
        "    plt.plot(history.history['loss'])\n",
        "    plt.plot(history.history['val_loss'])\n",
        "    plt.ylabel('loss')\n",
        "    plt.xlabel('epoch')\n",
        "    plt.legend(['train_loss', 'validation_loss'], loc='best')\n",
        "    plt.show()\n",
        "\n",
        "\n",
        "plot_accuracy(history,'FOOD101-Inceptionv3')\n",
        "plot_loss(history,'FOOD101-Inceptionv3')"
      ],
      "execution_count": null,
      "outputs": [
        {
          "output_type": "display_data",
          "data": {
            "image/png": "[encoded data removed]",
            "text/plain": [
              "<Figure size 432x288 with 1 Axes>"
            ]
          },
          "metadata": {
            "tags": [],
            "needs_background": "light"
          }
        },
        {
          "output_type": "display_data",
          "data": {
            "image/png": "[encoded data removed]",
            "text/plain": [
              "<Figure size 432x288 with 1 Axes>"
            ]
          },
          "metadata": {
            "tags": [],
            "needs_background": "light"
          }
        }
      ]
    },
    {
      "cell_type": "markdown",
      "metadata": {
        "id": "mQnoYY2ZPRrf"
      },
      "source": [
        "* The plots show that the accuracy of the model increased with epochs and the loss has decreased\n",
        "* Validation accuracy has been on the higher side than training accuracy for many epochs\n",
        "* This could be for several reasons:\n",
        "  * We used a pretrained model trained on ImageNet which contains data from a variety of classes\n",
        "  * Using dropout can lead to a higher validation accuracy\n",
        "* The best model saved has a Top-1 validation accuracy of 93%\n",
        " \n"
      ]
    },
    {
      "cell_type": "markdown",
      "metadata": {
        "id": "qjeWMHrCwSoS"
      },
      "source": [
        "# Predicting classes for new images from internet using the best trained model"
      ]
    },
    {
      "cell_type": "code",
      "metadata": {
        "id": "XBb-sj73pNc7",
        "colab": {
          "base_uri": "https://localhost:8080/"
        },
        "outputId": "cd2b2838-07cc-46f8-f104-1376091a1d58"
      },
      "source": [
        "%%time\n",
        "# Loading the best saved model to make predictions\n",
        "\n",
        "K.clear_session()\n",
        "model_best = load_model('bestmodel_3class.hdf5',compile = False)"
      ],
      "execution_count": null,
      "outputs": [
        {
          "output_type": "stream",
          "text": [
            "CPU times: user 1.75 s, sys: 60.7 ms, total: 1.81 s\n",
            "Wall time: 1.79 s\n"
          ],
          "name": "stdout"
        }
      ]
    },
    {
      "cell_type": "markdown",
      "metadata": {
        "id": "nYTIzLhiRNKt"
      },
      "source": [
        "* **Setting compile=False and clearing the session leads to faster loading of the saved model**\n",
        "* **Withouth the above addiitons, model loading was taking more than a minute!**"
      ]
    },
    {
      "cell_type": "code",
      "metadata": {
        "id": "5MIBtyj1pFoK"
      },
      "source": [
        "def predict_class(model, images, show = True):\n",
        "  for img in images:\n",
        "    img = image.load_img(img, target_size=(299, 299))\n",
        "    img = image.img_to_array(img)                    \n",
        "    img = np.expand_dims(img, axis=0)         \n",
        "    img = preprocess_input(img)                                      \n",
        "\n",
        "    pred = model.predict(img)\n",
        "    index = np.argmax(pred)\n",
        "    food_list.sort()\n",
        "    pred_value = food_list[index]\n",
        "    #print(pred)\n",
        "    if show:\n",
        "        plt.imshow(img[0])                           \n",
        "        plt.axis('off')\n",
        "        plt.title(pred_value)\n",
        "        plt.show()\n",
        "    \n",
        "    if (os.path.isfile('/content/%s.txt'%pred_value)): # os.path.isfile 을 사용해서 해당 위치에 예측된 음식명(pred_value)과 같은 이름의 레시피가 존재하면 (이 레시피 파일은 미리 해당 폴더에 추가해놓음)\n",
        "      with open('/content/%s.txt'%pred_value) as file_object: # 그 파일을 읽어온다.\n",
        "        contents = file_object.read()\n",
        "        print(contents)\n",
        "    else:\n",
        "      print(\"Sorry, we have no recipe.\") # 일치하는 레시피가 존재하지 않다면 없다는 문구 출력\n",
        "  "
      ],
      "execution_count": null,
      "outputs": []
    },
    {
      "cell_type": "code",
      "metadata": {
        "colab": {
          "base_uri": "https://localhost:8080/"
        },
        "id": "snYxJ7dtm75J",
        "outputId": "5ed986c0-4b22-40d6-bbd4-46114622dffb"
      },
      "source": [
        "# Make a list of images and test the trained model\n",
        "!wget -O samosa.jpg http://veggiefoodrecipes.com/wp-content/uploads/2016/05/lentil-samosa-recipe-01.jpg\n",
        "!wget -O applepie.jpg https://acleanbake.com/wp-content/uploads/2017/10/Paleo-Apple-Pie-with-Crumb-Topping-gluten-free-grain-free-dairy-free-15.jpg\n",
        "images = []\n",
        "#imagepath = '/content/examples/community/en/multi_class_classification/images/'\n",
        "#images.append(imagepath+'samosa.jpg')"
      ],
      "execution_count": 1,
      "outputs": [
        {
          "output_type": "stream",
          "text": [
            "--2021-05-23 10:57:52--  http://veggiefoodrecipes.com/wp-content/uploads/2016/05/lentil-samosa-recipe-01.jpg\n",
            "Resolving veggiefoodrecipes.com (veggiefoodrecipes.com)... 62.75.168.50\n",
            "Connecting to veggiefoodrecipes.com (veggiefoodrecipes.com)|62.75.168.50|:80... connected.\n",
            "HTTP request sent, awaiting response... 200 OK\n",
            "Length: 75560 (74K) [image/jpeg]\n",
            "Saving to: ‘samosa.jpg’\n",
            "\n",
            "\rsamosa.jpg            0%[                    ]       0  --.-KB/s               \rsamosa.jpg          100%[===================>]  73.79K  --.-KB/s    in 0.04s   \n",
            "\n",
            "2021-05-23 10:57:52 (1.64 MB/s) - ‘samosa.jpg’ saved [75560/75560]\n",
            "\n",
            "--2021-05-23 10:57:52--  https://acleanbake.com/wp-content/uploads/2017/10/Paleo-Apple-Pie-with-Crumb-Topping-gluten-free-grain-free-dairy-free-15.jpg\n",
            "Resolving acleanbake.com (acleanbake.com)... 138.197.203.41\n",
            "Connecting to acleanbake.com (acleanbake.com)|138.197.203.41|:443... connected.\n",
            "HTTP request sent, awaiting response... 200 OK\n",
            "Length: 114276 (112K) [image/jpeg]\n",
            "Saving to: ‘applepie.jpg’\n",
            "\n",
            "applepie.jpg        100%[===================>] 111.60K   402KB/s    in 0.3s    \n",
            "\n",
            "2021-05-23 10:57:53 (402 KB/s) - ‘applepie.jpg’ saved [114276/114276]\n",
            "\n"
          ],
          "name": "stdout"
        }
      ]
    },
    {
      "cell_type": "code",
      "metadata": {
        "id": "uzLVocClxD0f",
        "colab": {
          "base_uri": "https://localhost:8080/",
          "height": 1000
        },
        "outputId": "1292fe9c-80e1-43ce-b1d2-aa099259908e"
      },
      "source": [
        "images.append('applepie.jpg')\n",
        "predict_class(model_best, images, True)"
      ],
      "execution_count": null,
      "outputs": [
        {
          "output_type": "stream",
          "text": [
            "Clipping input data to the valid range for imshow with RGB data ([0..1] for floats or [0..255] for integers).\n"
          ],
          "name": "stderr"
        },
        {
          "output_type": "display_data",
          "data": {
            "image/png": "[encoded data removed]",
            "text/plain": [
              "<Figure size 432x288 with 1 Axes>"
            ]
          },
          "metadata": {
            "tags": [],
            "needs_background": "light"
          }
        },
        {
          "output_type": "stream",
          "text": [
            "-애플파이 레시피-\n",
            "\n",
            "재료\n",
            "[파이]\n",
            "박력분 200g\n",
            "소금 1/8ts\n",
            "설탕 5g\n",
            "차가운 버터 100g\n",
            "계란 1개\n",
            "[사과필링]\n",
            "사과2게\n",
            "설탕 또는 황설탕 60g\n",
            "버터 25g\n",
            "옥수수전분 1Ts\n",
            "계피가루 1/4ts\n",
            "계란물(노른자1개+물1Ts)\n",
            "\n",
            "준비해두세요\n",
            "· 박력분은 체 쳐 둡니다.\n",
            "· 버터는 냉장고에 두고 차갑게 해 콩알크기로 다져둡니다.\n",
            "· 사과는 1cm크기로 깍뚝썰기 해 둡니다.\n",
            "\n",
            "STEP 1 : (8분 소요 예상)\n",
            "[파이]\n",
            "박력분에 소금, 설탕을 넣고 섞은 뒤 버터를 넣고 도우블렌더로 잘 섞습니다.\n",
            "(도우블렌더가 없으면 양손으로 비벼 고슬고슬하게 합니다)\n",
            "\n",
            "STEP 2 : (5분 소요 예상)\n",
            "가운데 홈을 파고 그 안에 계란을 넣은 뒤 손으로 치댑니다.\n",
            "\n",
            "STEP 3 : (3분 소요 예상)\n",
            "작업대로 옮겨 완전히 한덩어리가 되도록 합니다.\n",
            "(너무 오래 치대지 않습니다)\n",
            "\n",
            "STEP 4 : (60분 소요 예상)\n",
            "반죽을 납작하게 하여 랩이나 비날에 싼 후 냉장실에 1시간 둡니다.\n",
            "\n",
            "STEP 5 : (4분 소요 예상)\n",
            "[필링]\n",
            "냄비에 설탕을 넣고 중불에 녹인 후 버터를 넣어 잘 섞습니다.\n",
            "\n",
            "STEP 6 : (10분 소요 예상)\n",
            "버터가 녹으면 바로 사과를 넣고 바닥부분이 눌지 않도록 잘 저으며 졸입니다.\n",
            "(중불에서 약10분정도)\n",
            "\n",
            "STEP 7 : (3분 소요 예상)\n",
            "어느정도 사과가 졸으면 전분과 계피가루를 넣고 2분정도 더 졸인 후 다른볼에 담아 식힙니다.\n",
            "\n",
            "STEP 8 : (5분 소요 예상)\n",
            "작업대에 비닐을 깔고 밀대를 이용하여 두께 약3mm정도로 밉니다.\n",
            "(반죽이 질면 분량외 밀가루를 뿌려가며 밀어주세요)\n",
            "\n",
            "STEP 9 : (5분 소요 예상)\n",
            "팬위에 반죽을 올린 뒤 반죽을 최대한 밀착시키고 가장자리를 눌러 남은 반죽을 잘라내고 손가락으로 밀착시키면서 다듬습니다.\n",
            "\n",
            "STEP 10 : (5분 소요 예상)\n",
            "남은 반죽은 다시 3mm두께로 밀어 약1cm간격으로 자릅니다.\n",
            "\n",
            "STEP 11 : (5분 소요 예상)\n",
            "틀에 필링을 담고 가장자리에 물칠을 한 후 잘라 놓은 반죽을 격자로 바구니 짜듯이 놓으며 덮습니다.\n",
            "\n",
            "STEP 12 : (30분 소요 예상)\n",
            "가장자리를 정리하고 잘 붙인 뒤 계란물을 바르고 예열된 180오븐에서 25~30분간 굽습니다.\n",
            "\n",
            "Recipe URL: \"https://www.youtube.com/watch?v=jVH2k4yNi4o\"\n"
          ],
          "name": "stdout"
        }
      ]
    }
  ]
}